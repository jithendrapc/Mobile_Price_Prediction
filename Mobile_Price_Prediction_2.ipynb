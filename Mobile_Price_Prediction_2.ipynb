{
  "nbformat": 4,
  "nbformat_minor": 0,
  "metadata": {
    "colab": {
      "provenance": [],
      "gpuType": "T4"
    },
    "kernelspec": {
      "name": "python3",
      "display_name": "Python 3"
    },
    "language_info": {
      "name": "python"
    },
    "accelerator": "GPU"
  },
  "cells": [
    {
      "cell_type": "code",
      "execution_count": 1,
      "metadata": {
        "colab": {
          "base_uri": "https://localhost:8080/"
        },
        "id": "VSoqrWO_5q3Q",
        "outputId": "8ea3f41f-83af-48e9-b089-9c098bb0cbd8"
      },
      "outputs": [
        {
          "output_type": "execute_result",
          "data": {
            "text/plain": [
              "Index(['Unnamed: 0', 'Brand', 'price', 'rating', 'bat_cap', 'bat_speed', 'ram',\n",
              "       'rom', 'os_ver', 'os_type', 'inches', 'refresh_rate', 'notch', 'pixel',\n",
              "       'p_cam', 's_cam', 't_cam', 'f_cam', 'proc_type', 'proc_version', 'core',\n",
              "       'ghz', '5G', 'IR Blaster', 'NFC'],\n",
              "      dtype='object')"
            ]
          },
          "metadata": {},
          "execution_count": 1
        }
      ],
      "source": [
        "import pandas as pd\n",
        "import numpy as np\n",
        "import matplotlib.pyplot as plt\n",
        "from sklearn.impute import SimpleImputer\n",
        "from sklearn.experimental import enable_iterative_imputer\n",
        "from sklearn.impute import IterativeImputer\n",
        "import warnings\n",
        "warnings.filterwarnings(\"ignore\")\n",
        "df=pd.read_csv('cleaneddata.csv',index_col=False)\n",
        "d=pd.read_csv('smartphones.csv')\n",
        "col=df.columns\n",
        "col"
      ]
    },
    {
      "cell_type": "code",
      "source": [
        "df.drop(columns=[col[0],col[19]],inplace=True)\n",
        "df.columns"
      ],
      "metadata": {
        "colab": {
          "base_uri": "https://localhost:8080/"
        },
        "id": "uMArolY_HF5k",
        "outputId": "efee39a0-b7ac-4dbb-8e17-5fdf9d38df01"
      },
      "execution_count": 2,
      "outputs": [
        {
          "output_type": "execute_result",
          "data": {
            "text/plain": [
              "Index(['Brand', 'price', 'rating', 'bat_cap', 'bat_speed', 'ram', 'rom',\n",
              "       'os_ver', 'os_type', 'inches', 'refresh_rate', 'notch', 'pixel',\n",
              "       'p_cam', 's_cam', 't_cam', 'f_cam', 'proc_type', 'core', 'ghz', '5G',\n",
              "       'IR Blaster', 'NFC'],\n",
              "      dtype='object')"
            ]
          },
          "metadata": {},
          "execution_count": 2
        }
      ]
    },
    {
      "cell_type": "code",
      "source": [
        "df['p_cam'].fillna(0,inplace=True)\n",
        "df['s_cam'].fillna(0,inplace=True)\n",
        "df['t_cam'].fillna(0,inplace=True)\n",
        "df['f_cam'].fillna(df.f_cam.mean(),inplace=True)\n",
        "df.info()"
      ],
      "metadata": {
        "colab": {
          "base_uri": "https://localhost:8080/"
        },
        "id": "IHz3-L8479JI",
        "outputId": "668bcfe5-3454-4d27-b31a-0130b22738b7"
      },
      "execution_count": 3,
      "outputs": [
        {
          "output_type": "stream",
          "name": "stdout",
          "text": [
            "<class 'pandas.core.frame.DataFrame'>\n",
            "RangeIndex: 982 entries, 0 to 981\n",
            "Data columns (total 23 columns):\n",
            " #   Column        Non-Null Count  Dtype  \n",
            "---  ------        --------------  -----  \n",
            " 0   Brand         982 non-null    object \n",
            " 1   price         982 non-null    int64  \n",
            " 2   rating        877 non-null    float64\n",
            " 3   bat_cap       973 non-null    float64\n",
            " 4   bat_speed     763 non-null    float64\n",
            " 5   ram           982 non-null    int64  \n",
            " 6   rom           982 non-null    int64  \n",
            " 7   os_ver        868 non-null    float64\n",
            " 8   os_type       982 non-null    object \n",
            " 9   inches        973 non-null    float64\n",
            " 10  refresh_rate  610 non-null    float64\n",
            " 11  notch         572 non-null    object \n",
            " 12  pixel         973 non-null    float64\n",
            " 13  p_cam         982 non-null    float64\n",
            " 14  s_cam         982 non-null    float64\n",
            " 15  t_cam         982 non-null    float64\n",
            " 16  f_cam         982 non-null    float64\n",
            " 17  proc_type     978 non-null    object \n",
            " 18  core          967 non-null    object \n",
            " 19  ghz           928 non-null    float64\n",
            " 20  5G            982 non-null    int64  \n",
            " 21  IR Blaster    982 non-null    int64  \n",
            " 22  NFC           982 non-null    int64  \n",
            "dtypes: float64(12), int64(6), object(5)\n",
            "memory usage: 176.6+ KB\n"
          ]
        }
      ]
    },
    {
      "cell_type": "code",
      "source": [
        "df.core=np.where(df['core'].str.contains('GHz'),np.NaN,df['core'])\n",
        "df.core=df.core.replace(['Octa','Hexa','Quad','Dual'],[8,6,4,2])\n",
        "df.core.value_counts()"
      ],
      "metadata": {
        "colab": {
          "base_uri": "https://localhost:8080/"
        },
        "id": "BHaWn42iIL75",
        "outputId": "ba419027-00c9-42e8-93ff-5b10d2bb6f9d"
      },
      "execution_count": 4,
      "outputs": [
        {
          "output_type": "execute_result",
          "data": {
            "text/plain": [
              "8.0    884\n",
              "6.0     37\n",
              "4.0     33\n",
              "2.0      1\n",
              "Name: core, dtype: int64"
            ]
          },
          "metadata": {},
          "execution_count": 4
        }
      ]
    },
    {
      "cell_type": "code",
      "source": [
        "#df=df[~df['proc_type'].str.contains('Dual')]\n",
        "df=df[~df['proc_type'].isin(['Dual','Octa','Quad'])]\n",
        "df.proc_type.unique()"
      ],
      "metadata": {
        "colab": {
          "base_uri": "https://localhost:8080/"
        },
        "id": "TkXq1pd7LT4k",
        "outputId": "20c32b95-977f-41f3-c20e-0a7b26c8599f"
      },
      "execution_count": 5,
      "outputs": [
        {
          "output_type": "execute_result",
          "data": {
            "text/plain": [
              "array(['Snapdragon', 'Exynos', 'Dimensity', 'Bionic', 'Helio', 'A13', nan,\n",
              "       'Unisoc', 'Tiger', 'Google', 'Apple', 'SC9863A', 'Qualcomm',\n",
              "       'Spreadtrum', 'Sanpdragon', 'Fusion', 'Kirin', '(28', 'Samsung'],\n",
              "      dtype=object)"
            ]
          },
          "metadata": {},
          "execution_count": 5
        }
      ]
    },
    {
      "cell_type": "code",
      "source": [],
      "metadata": {
        "id": "VDdXzE2hRatY"
      },
      "execution_count": 5,
      "outputs": []
    },
    {
      "cell_type": "code",
      "source": [],
      "metadata": {
        "id": "_tjS0b_KRvVC"
      },
      "execution_count": 5,
      "outputs": []
    },
    {
      "cell_type": "code",
      "source": [
        "df.proc_type=np.where(df['proc_type'].str.contains('Apple'),'Bionic',df['proc_type'])\n",
        "df.proc_type=np.where(df['proc_type'].str.contains('A13'),'Bionic',df['proc_type'])\n",
        "df.proc_type=np.where(df['proc_type'].str.contains('Qualcomm') | df['proc_type'].str.contains('Sanpdragon'),'Snapdragon',df['proc_type'])\n",
        "df.proc_type=np.where(df['proc_type'].str.contains('SC986'),'Unisoc',df['proc_type'])\n",
        "df.proc_type=np.where(df['proc_type'].str.contains('Samsung') | df['proc_type'].str.contains('28'),'Exynos',df['proc_type'])\n",
        "df.proc_type.value_counts()\n"
      ],
      "metadata": {
        "colab": {
          "base_uri": "https://localhost:8080/"
        },
        "id": "65UDoEnDKlEv",
        "outputId": "1c5d1c71-d28a-4357-d1b5-e4d33eaf730c"
      },
      "execution_count": 6,
      "outputs": [
        {
          "output_type": "execute_result",
          "data": {
            "text/plain": [
              "Snapdragon    412\n",
              "Helio         201\n",
              "Dimensity     177\n",
              "Exynos         51\n",
              "Bionic         47\n",
              "Unisoc         28\n",
              "Tiger          24\n",
              "Google          9\n",
              "Kirin           7\n",
              "Spreadtrum      4\n",
              "Fusion          1\n",
              "Name: proc_type, dtype: int64"
            ]
          },
          "metadata": {},
          "execution_count": 6
        }
      ]
    },
    {
      "cell_type": "code",
      "source": [
        "\n",
        "df.notch=df.notch.replace(['Dual','Small','Large'],['Punch','Notch','Notch'])\n",
        "df.notch.unique()"
      ],
      "metadata": {
        "colab": {
          "base_uri": "https://localhost:8080/"
        },
        "id": "2LOBIRg9VGh5",
        "outputId": "1bc1ed9d-2bb2-481f-a5b2-fa4f13077b27"
      },
      "execution_count": 7,
      "outputs": [
        {
          "output_type": "execute_result",
          "data": {
            "text/plain": [
              "array(['Punch', 'Water', nan, 'Notch'], dtype=object)"
            ]
          },
          "metadata": {},
          "execution_count": 7
        }
      ]
    },
    {
      "cell_type": "code",
      "source": [
        "df.os_type=np.where(df['os_type'].str.contains('Memory'),np.NaN,df['os_type'])\n",
        "df.os_type=np.where(df['os_type'].str.contains('Bluetooth'),np.NaN,df['os_type'])\n",
        "df.os_type.unique()"
      ],
      "metadata": {
        "colab": {
          "base_uri": "https://localhost:8080/"
        },
        "id": "YMYLqYvyX17U",
        "outputId": "3303059f-8789-4d30-b847-2526b28f8f26"
      },
      "execution_count": 8,
      "outputs": [
        {
          "output_type": "execute_result",
          "data": {
            "text/plain": [
              "array(['Android', 'iOS', 'HarmonyOS', nan, 'Pragati', 'Harmony',\n",
              "       'Hongmeng', 'EMUI'], dtype=object)"
            ]
          },
          "metadata": {},
          "execution_count": 8
        }
      ]
    },
    {
      "cell_type": "code",
      "source": [
        "df=df[df.price < 500000]\n",
        "df"
      ],
      "metadata": {
        "colab": {
          "base_uri": "https://localhost:8080/",
          "height": 505
        },
        "id": "CJnc5cUre379",
        "outputId": "d6c91fe7-3700-4348-89b1-3b7bc9048c4b"
      },
      "execution_count": 9,
      "outputs": [
        {
          "output_type": "execute_result",
          "data": {
            "text/plain": [
              "        Brand   price  rating  bat_cap  bat_speed  ram  rom  os_ver  os_type  \\\n",
              "0     OnePlus   54999    89.0   5000.0      100.0   12  256    13.0  Android   \n",
              "1     OnePlus   19989    81.0   5000.0       33.0    6  128    12.0  Android   \n",
              "2     Samsung   16499    75.0   5000.0       15.0    4   64    13.0  Android   \n",
              "3    Motorola   14999    81.0   5000.0        NaN    6  128    12.0  Android   \n",
              "4      Realme   24999    82.0   5000.0       67.0    6  128    13.0  Android   \n",
              "..        ...     ...     ...      ...        ...  ...  ...     ...      ...   \n",
              "976      Vivo  119990     NaN   4800.0       66.0   12  256    12.0  Android   \n",
              "977  Motorola   34990    83.0   5000.0        NaN    8  128    12.0  Android   \n",
              "978     Honor   14990    75.0   5000.0        NaN    6  128    11.0  Android   \n",
              "979      POCO   28990    85.0   5080.0       67.0    8  256    12.0  Android   \n",
              "980  Motorola   19990    80.0   5000.0        NaN    6  128    12.0  Android   \n",
              "\n",
              "     inches  ...  p_cam s_cam  t_cam  f_cam   proc_type  core   ghz 5G  \\\n",
              "0      6.70  ...   50.0  48.0   32.0   48.0  Snapdragon   8.0  3.20  1   \n",
              "1      6.59  ...   64.0   2.0    2.0    2.0  Snapdragon   8.0  2.20  1   \n",
              "2      6.60  ...   50.0   2.0    2.0    2.0      Exynos   8.0  2.40  1   \n",
              "3      6.55  ...   50.0   8.0    2.0    8.0  Snapdragon   8.0  2.20  1   \n",
              "4      6.70  ...  108.0   8.0    2.0    8.0   Dimensity   8.0  2.60  1   \n",
              "..      ...  ...    ...   ...    ...    ...         ...   ...   ... ..   \n",
              "976    8.03  ...   50.0  50.0   10.0   50.0  Snapdragon   8.0  3.20  1   \n",
              "977    6.67  ...   64.0   8.0    2.0    8.0  Snapdragon   8.0  3.00  1   \n",
              "978    6.50  ...   48.0   2.0    0.0    2.0  Snapdragon   8.0  2.20  1   \n",
              "979    6.60  ...   64.0   8.0    2.0    8.0   Dimensity   8.0  2.85  1   \n",
              "980    6.80  ...  108.0   8.0    2.0    8.0  Snapdragon   8.0  2.20  1   \n",
              "\n",
              "     IR Blaster  NFC  \n",
              "0             0    1  \n",
              "1             0    0  \n",
              "2             0    0  \n",
              "3             0    0  \n",
              "4             0    0  \n",
              "..          ...  ...  \n",
              "976           0    1  \n",
              "977           0    0  \n",
              "978           0    0  \n",
              "979           1    1  \n",
              "980           0    1  \n",
              "\n",
              "[960 rows x 23 columns]"
            ],
            "text/html": [
              "\n",
              "  <div id=\"df-1b1193d7-211f-418d-90f2-b098345998b0\">\n",
              "    <div class=\"colab-df-container\">\n",
              "      <div>\n",
              "<style scoped>\n",
              "    .dataframe tbody tr th:only-of-type {\n",
              "        vertical-align: middle;\n",
              "    }\n",
              "\n",
              "    .dataframe tbody tr th {\n",
              "        vertical-align: top;\n",
              "    }\n",
              "\n",
              "    .dataframe thead th {\n",
              "        text-align: right;\n",
              "    }\n",
              "</style>\n",
              "<table border=\"1\" class=\"dataframe\">\n",
              "  <thead>\n",
              "    <tr style=\"text-align: right;\">\n",
              "      <th></th>\n",
              "      <th>Brand</th>\n",
              "      <th>price</th>\n",
              "      <th>rating</th>\n",
              "      <th>bat_cap</th>\n",
              "      <th>bat_speed</th>\n",
              "      <th>ram</th>\n",
              "      <th>rom</th>\n",
              "      <th>os_ver</th>\n",
              "      <th>os_type</th>\n",
              "      <th>inches</th>\n",
              "      <th>...</th>\n",
              "      <th>p_cam</th>\n",
              "      <th>s_cam</th>\n",
              "      <th>t_cam</th>\n",
              "      <th>f_cam</th>\n",
              "      <th>proc_type</th>\n",
              "      <th>core</th>\n",
              "      <th>ghz</th>\n",
              "      <th>5G</th>\n",
              "      <th>IR Blaster</th>\n",
              "      <th>NFC</th>\n",
              "    </tr>\n",
              "  </thead>\n",
              "  <tbody>\n",
              "    <tr>\n",
              "      <th>0</th>\n",
              "      <td>OnePlus</td>\n",
              "      <td>54999</td>\n",
              "      <td>89.0</td>\n",
              "      <td>5000.0</td>\n",
              "      <td>100.0</td>\n",
              "      <td>12</td>\n",
              "      <td>256</td>\n",
              "      <td>13.0</td>\n",
              "      <td>Android</td>\n",
              "      <td>6.70</td>\n",
              "      <td>...</td>\n",
              "      <td>50.0</td>\n",
              "      <td>48.0</td>\n",
              "      <td>32.0</td>\n",
              "      <td>48.0</td>\n",
              "      <td>Snapdragon</td>\n",
              "      <td>8.0</td>\n",
              "      <td>3.20</td>\n",
              "      <td>1</td>\n",
              "      <td>0</td>\n",
              "      <td>1</td>\n",
              "    </tr>\n",
              "    <tr>\n",
              "      <th>1</th>\n",
              "      <td>OnePlus</td>\n",
              "      <td>19989</td>\n",
              "      <td>81.0</td>\n",
              "      <td>5000.0</td>\n",
              "      <td>33.0</td>\n",
              "      <td>6</td>\n",
              "      <td>128</td>\n",
              "      <td>12.0</td>\n",
              "      <td>Android</td>\n",
              "      <td>6.59</td>\n",
              "      <td>...</td>\n",
              "      <td>64.0</td>\n",
              "      <td>2.0</td>\n",
              "      <td>2.0</td>\n",
              "      <td>2.0</td>\n",
              "      <td>Snapdragon</td>\n",
              "      <td>8.0</td>\n",
              "      <td>2.20</td>\n",
              "      <td>1</td>\n",
              "      <td>0</td>\n",
              "      <td>0</td>\n",
              "    </tr>\n",
              "    <tr>\n",
              "      <th>2</th>\n",
              "      <td>Samsung</td>\n",
              "      <td>16499</td>\n",
              "      <td>75.0</td>\n",
              "      <td>5000.0</td>\n",
              "      <td>15.0</td>\n",
              "      <td>4</td>\n",
              "      <td>64</td>\n",
              "      <td>13.0</td>\n",
              "      <td>Android</td>\n",
              "      <td>6.60</td>\n",
              "      <td>...</td>\n",
              "      <td>50.0</td>\n",
              "      <td>2.0</td>\n",
              "      <td>2.0</td>\n",
              "      <td>2.0</td>\n",
              "      <td>Exynos</td>\n",
              "      <td>8.0</td>\n",
              "      <td>2.40</td>\n",
              "      <td>1</td>\n",
              "      <td>0</td>\n",
              "      <td>0</td>\n",
              "    </tr>\n",
              "    <tr>\n",
              "      <th>3</th>\n",
              "      <td>Motorola</td>\n",
              "      <td>14999</td>\n",
              "      <td>81.0</td>\n",
              "      <td>5000.0</td>\n",
              "      <td>NaN</td>\n",
              "      <td>6</td>\n",
              "      <td>128</td>\n",
              "      <td>12.0</td>\n",
              "      <td>Android</td>\n",
              "      <td>6.55</td>\n",
              "      <td>...</td>\n",
              "      <td>50.0</td>\n",
              "      <td>8.0</td>\n",
              "      <td>2.0</td>\n",
              "      <td>8.0</td>\n",
              "      <td>Snapdragon</td>\n",
              "      <td>8.0</td>\n",
              "      <td>2.20</td>\n",
              "      <td>1</td>\n",
              "      <td>0</td>\n",
              "      <td>0</td>\n",
              "    </tr>\n",
              "    <tr>\n",
              "      <th>4</th>\n",
              "      <td>Realme</td>\n",
              "      <td>24999</td>\n",
              "      <td>82.0</td>\n",
              "      <td>5000.0</td>\n",
              "      <td>67.0</td>\n",
              "      <td>6</td>\n",
              "      <td>128</td>\n",
              "      <td>13.0</td>\n",
              "      <td>Android</td>\n",
              "      <td>6.70</td>\n",
              "      <td>...</td>\n",
              "      <td>108.0</td>\n",
              "      <td>8.0</td>\n",
              "      <td>2.0</td>\n",
              "      <td>8.0</td>\n",
              "      <td>Dimensity</td>\n",
              "      <td>8.0</td>\n",
              "      <td>2.60</td>\n",
              "      <td>1</td>\n",
              "      <td>0</td>\n",
              "      <td>0</td>\n",
              "    </tr>\n",
              "    <tr>\n",
              "      <th>...</th>\n",
              "      <td>...</td>\n",
              "      <td>...</td>\n",
              "      <td>...</td>\n",
              "      <td>...</td>\n",
              "      <td>...</td>\n",
              "      <td>...</td>\n",
              "      <td>...</td>\n",
              "      <td>...</td>\n",
              "      <td>...</td>\n",
              "      <td>...</td>\n",
              "      <td>...</td>\n",
              "      <td>...</td>\n",
              "      <td>...</td>\n",
              "      <td>...</td>\n",
              "      <td>...</td>\n",
              "      <td>...</td>\n",
              "      <td>...</td>\n",
              "      <td>...</td>\n",
              "      <td>...</td>\n",
              "      <td>...</td>\n",
              "      <td>...</td>\n",
              "    </tr>\n",
              "    <tr>\n",
              "      <th>976</th>\n",
              "      <td>Vivo</td>\n",
              "      <td>119990</td>\n",
              "      <td>NaN</td>\n",
              "      <td>4800.0</td>\n",
              "      <td>66.0</td>\n",
              "      <td>12</td>\n",
              "      <td>256</td>\n",
              "      <td>12.0</td>\n",
              "      <td>Android</td>\n",
              "      <td>8.03</td>\n",
              "      <td>...</td>\n",
              "      <td>50.0</td>\n",
              "      <td>50.0</td>\n",
              "      <td>10.0</td>\n",
              "      <td>50.0</td>\n",
              "      <td>Snapdragon</td>\n",
              "      <td>8.0</td>\n",
              "      <td>3.20</td>\n",
              "      <td>1</td>\n",
              "      <td>0</td>\n",
              "      <td>1</td>\n",
              "    </tr>\n",
              "    <tr>\n",
              "      <th>977</th>\n",
              "      <td>Motorola</td>\n",
              "      <td>34990</td>\n",
              "      <td>83.0</td>\n",
              "      <td>5000.0</td>\n",
              "      <td>NaN</td>\n",
              "      <td>8</td>\n",
              "      <td>128</td>\n",
              "      <td>12.0</td>\n",
              "      <td>Android</td>\n",
              "      <td>6.67</td>\n",
              "      <td>...</td>\n",
              "      <td>64.0</td>\n",
              "      <td>8.0</td>\n",
              "      <td>2.0</td>\n",
              "      <td>8.0</td>\n",
              "      <td>Snapdragon</td>\n",
              "      <td>8.0</td>\n",
              "      <td>3.00</td>\n",
              "      <td>1</td>\n",
              "      <td>0</td>\n",
              "      <td>0</td>\n",
              "    </tr>\n",
              "    <tr>\n",
              "      <th>978</th>\n",
              "      <td>Honor</td>\n",
              "      <td>14990</td>\n",
              "      <td>75.0</td>\n",
              "      <td>5000.0</td>\n",
              "      <td>NaN</td>\n",
              "      <td>6</td>\n",
              "      <td>128</td>\n",
              "      <td>11.0</td>\n",
              "      <td>Android</td>\n",
              "      <td>6.50</td>\n",
              "      <td>...</td>\n",
              "      <td>48.0</td>\n",
              "      <td>2.0</td>\n",
              "      <td>0.0</td>\n",
              "      <td>2.0</td>\n",
              "      <td>Snapdragon</td>\n",
              "      <td>8.0</td>\n",
              "      <td>2.20</td>\n",
              "      <td>1</td>\n",
              "      <td>0</td>\n",
              "      <td>0</td>\n",
              "    </tr>\n",
              "    <tr>\n",
              "      <th>979</th>\n",
              "      <td>POCO</td>\n",
              "      <td>28990</td>\n",
              "      <td>85.0</td>\n",
              "      <td>5080.0</td>\n",
              "      <td>67.0</td>\n",
              "      <td>8</td>\n",
              "      <td>256</td>\n",
              "      <td>12.0</td>\n",
              "      <td>Android</td>\n",
              "      <td>6.60</td>\n",
              "      <td>...</td>\n",
              "      <td>64.0</td>\n",
              "      <td>8.0</td>\n",
              "      <td>2.0</td>\n",
              "      <td>8.0</td>\n",
              "      <td>Dimensity</td>\n",
              "      <td>8.0</td>\n",
              "      <td>2.85</td>\n",
              "      <td>1</td>\n",
              "      <td>1</td>\n",
              "      <td>1</td>\n",
              "    </tr>\n",
              "    <tr>\n",
              "      <th>980</th>\n",
              "      <td>Motorola</td>\n",
              "      <td>19990</td>\n",
              "      <td>80.0</td>\n",
              "      <td>5000.0</td>\n",
              "      <td>NaN</td>\n",
              "      <td>6</td>\n",
              "      <td>128</td>\n",
              "      <td>12.0</td>\n",
              "      <td>Android</td>\n",
              "      <td>6.80</td>\n",
              "      <td>...</td>\n",
              "      <td>108.0</td>\n",
              "      <td>8.0</td>\n",
              "      <td>2.0</td>\n",
              "      <td>8.0</td>\n",
              "      <td>Snapdragon</td>\n",
              "      <td>8.0</td>\n",
              "      <td>2.20</td>\n",
              "      <td>1</td>\n",
              "      <td>0</td>\n",
              "      <td>1</td>\n",
              "    </tr>\n",
              "  </tbody>\n",
              "</table>\n",
              "<p>960 rows × 23 columns</p>\n",
              "</div>\n",
              "      <button class=\"colab-df-convert\" onclick=\"convertToInteractive('df-1b1193d7-211f-418d-90f2-b098345998b0')\"\n",
              "              title=\"Convert this dataframe to an interactive table.\"\n",
              "              style=\"display:none;\">\n",
              "        \n",
              "  <svg xmlns=\"http://www.w3.org/2000/svg\" height=\"24px\"viewBox=\"0 0 24 24\"\n",
              "       width=\"24px\">\n",
              "    <path d=\"M0 0h24v24H0V0z\" fill=\"none\"/>\n",
              "    <path d=\"M18.56 5.44l.94 2.06.94-2.06 2.06-.94-2.06-.94-.94-2.06-.94 2.06-2.06.94zm-11 1L8.5 8.5l.94-2.06 2.06-.94-2.06-.94L8.5 2.5l-.94 2.06-2.06.94zm10 10l.94 2.06.94-2.06 2.06-.94-2.06-.94-.94-2.06-.94 2.06-2.06.94z\"/><path d=\"M17.41 7.96l-1.37-1.37c-.4-.4-.92-.59-1.43-.59-.52 0-1.04.2-1.43.59L10.3 9.45l-7.72 7.72c-.78.78-.78 2.05 0 2.83L4 21.41c.39.39.9.59 1.41.59.51 0 1.02-.2 1.41-.59l7.78-7.78 2.81-2.81c.8-.78.8-2.07 0-2.86zM5.41 20L4 18.59l7.72-7.72 1.47 1.35L5.41 20z\"/>\n",
              "  </svg>\n",
              "      </button>\n",
              "      \n",
              "  <style>\n",
              "    .colab-df-container {\n",
              "      display:flex;\n",
              "      flex-wrap:wrap;\n",
              "      gap: 12px;\n",
              "    }\n",
              "\n",
              "    .colab-df-convert {\n",
              "      background-color: #E8F0FE;\n",
              "      border: none;\n",
              "      border-radius: 50%;\n",
              "      cursor: pointer;\n",
              "      display: none;\n",
              "      fill: #1967D2;\n",
              "      height: 32px;\n",
              "      padding: 0 0 0 0;\n",
              "      width: 32px;\n",
              "    }\n",
              "\n",
              "    .colab-df-convert:hover {\n",
              "      background-color: #E2EBFA;\n",
              "      box-shadow: 0px 1px 2px rgba(60, 64, 67, 0.3), 0px 1px 3px 1px rgba(60, 64, 67, 0.15);\n",
              "      fill: #174EA6;\n",
              "    }\n",
              "\n",
              "    [theme=dark] .colab-df-convert {\n",
              "      background-color: #3B4455;\n",
              "      fill: #D2E3FC;\n",
              "    }\n",
              "\n",
              "    [theme=dark] .colab-df-convert:hover {\n",
              "      background-color: #434B5C;\n",
              "      box-shadow: 0px 1px 3px 1px rgba(0, 0, 0, 0.15);\n",
              "      filter: drop-shadow(0px 1px 2px rgba(0, 0, 0, 0.3));\n",
              "      fill: #FFFFFF;\n",
              "    }\n",
              "  </style>\n",
              "\n",
              "      <script>\n",
              "        const buttonEl =\n",
              "          document.querySelector('#df-1b1193d7-211f-418d-90f2-b098345998b0 button.colab-df-convert');\n",
              "        buttonEl.style.display =\n",
              "          google.colab.kernel.accessAllowed ? 'block' : 'none';\n",
              "\n",
              "        async function convertToInteractive(key) {\n",
              "          const element = document.querySelector('#df-1b1193d7-211f-418d-90f2-b098345998b0');\n",
              "          const dataTable =\n",
              "            await google.colab.kernel.invokeFunction('convertToInteractive',\n",
              "                                                     [key], {});\n",
              "          if (!dataTable) return;\n",
              "\n",
              "          const docLinkHtml = 'Like what you see? Visit the ' +\n",
              "            '<a target=\"_blank\" href=https://colab.research.google.com/notebooks/data_table.ipynb>data table notebook</a>'\n",
              "            + ' to learn more about interactive tables.';\n",
              "          element.innerHTML = '';\n",
              "          dataTable['output_type'] = 'display_data';\n",
              "          await google.colab.output.renderOutput(dataTable, element);\n",
              "          const docLink = document.createElement('div');\n",
              "          docLink.innerHTML = docLinkHtml;\n",
              "          element.appendChild(docLink);\n",
              "        }\n",
              "      </script>\n",
              "    </div>\n",
              "  </div>\n",
              "  "
            ]
          },
          "metadata": {},
          "execution_count": 9
        }
      ]
    },
    {
      "cell_type": "code",
      "source": [
        "df.info()"
      ],
      "metadata": {
        "colab": {
          "base_uri": "https://localhost:8080/"
        },
        "id": "u1ILVh2RN669",
        "outputId": "76ed91e6-4e33-4fbd-c26d-1bbf58b23f93"
      },
      "execution_count": 10,
      "outputs": [
        {
          "output_type": "stream",
          "name": "stdout",
          "text": [
            "<class 'pandas.core.frame.DataFrame'>\n",
            "Int64Index: 960 entries, 0 to 980\n",
            "Data columns (total 23 columns):\n",
            " #   Column        Non-Null Count  Dtype  \n",
            "---  ------        --------------  -----  \n",
            " 0   Brand         960 non-null    object \n",
            " 1   price         960 non-null    int64  \n",
            " 2   rating        859 non-null    float64\n",
            " 3   bat_cap       951 non-null    float64\n",
            " 4   bat_speed     756 non-null    float64\n",
            " 5   ram           960 non-null    int64  \n",
            " 6   rom           960 non-null    int64  \n",
            " 7   os_ver        853 non-null    float64\n",
            " 8   os_type       943 non-null    object \n",
            " 9   inches        951 non-null    float64\n",
            " 10  refresh_rate  609 non-null    float64\n",
            " 11  notch         572 non-null    object \n",
            " 12  pixel         951 non-null    float64\n",
            " 13  p_cam         960 non-null    float64\n",
            " 14  s_cam         960 non-null    float64\n",
            " 15  t_cam         960 non-null    float64\n",
            " 16  f_cam         960 non-null    float64\n",
            " 17  proc_type     960 non-null    object \n",
            " 18  core          954 non-null    float64\n",
            " 19  ghz           927 non-null    float64\n",
            " 20  5G            960 non-null    int64  \n",
            " 21  IR Blaster    960 non-null    int64  \n",
            " 22  NFC           960 non-null    int64  \n",
            "dtypes: float64(13), int64(6), object(4)\n",
            "memory usage: 180.0+ KB\n"
          ]
        }
      ]
    },
    {
      "cell_type": "code",
      "source": [
        "SEED = 42\n",
        "TARGET = 'price'\n",
        "FEATURES = df.columns.drop(TARGET)\n",
        "\n",
        "NUMERICAL = df[FEATURES].select_dtypes('number').columns\n",
        "print(NUMERICAL)\n",
        "print(f\"Numerical features: {', '.join(NUMERICAL)}\")\n",
        "\n",
        "CATEGORICAL = pd.Index(np.setdiff1d(FEATURES, NUMERICAL))\n",
        "print(CATEGORICAL)\n",
        "print(f\"Categorical features: {', '.join(CATEGORICAL)}\")"
      ],
      "metadata": {
        "colab": {
          "base_uri": "https://localhost:8080/"
        },
        "id": "ed7jrwn7Oq3u",
        "outputId": "0336a2bb-d19b-496f-e38c-afa001a4fbfb"
      },
      "execution_count": 11,
      "outputs": [
        {
          "output_type": "stream",
          "name": "stdout",
          "text": [
            "Index(['rating', 'bat_cap', 'bat_speed', 'ram', 'rom', 'os_ver', 'inches',\n",
            "       'refresh_rate', 'pixel', 'p_cam', 's_cam', 't_cam', 'f_cam', 'core',\n",
            "       'ghz', '5G', 'IR Blaster', 'NFC'],\n",
            "      dtype='object')\n",
            "Numerical features: rating, bat_cap, bat_speed, ram, rom, os_ver, inches, refresh_rate, pixel, p_cam, s_cam, t_cam, f_cam, core, ghz, 5G, IR Blaster, NFC\n",
            "Index(['Brand', 'notch', 'os_type', 'proc_type'], dtype='object')\n",
            "Categorical features: Brand, notch, os_type, proc_type\n"
          ]
        }
      ]
    },
    {
      "cell_type": "code",
      "source": [
        "X=df.drop(columns=TARGET)\n",
        "y=df[TARGET]"
      ],
      "metadata": {
        "id": "7BLsy8MgWJX6"
      },
      "execution_count": 12,
      "outputs": []
    },
    {
      "cell_type": "code",
      "source": [
        "X.isna().sum()"
      ],
      "metadata": {
        "colab": {
          "base_uri": "https://localhost:8080/"
        },
        "id": "UxBzS0SPjcuG",
        "outputId": "615c69df-ab70-4ccc-e00f-f695052ae907"
      },
      "execution_count": 13,
      "outputs": [
        {
          "output_type": "execute_result",
          "data": {
            "text/plain": [
              "Brand             0\n",
              "rating          101\n",
              "bat_cap           9\n",
              "bat_speed       204\n",
              "ram               0\n",
              "rom               0\n",
              "os_ver          107\n",
              "os_type          17\n",
              "inches            9\n",
              "refresh_rate    351\n",
              "notch           388\n",
              "pixel             9\n",
              "p_cam             0\n",
              "s_cam             0\n",
              "t_cam             0\n",
              "f_cam             0\n",
              "proc_type         0\n",
              "core              6\n",
              "ghz              33\n",
              "5G                0\n",
              "IR Blaster        0\n",
              "NFC               0\n",
              "dtype: int64"
            ]
          },
          "metadata": {},
          "execution_count": 13
        }
      ]
    },
    {
      "cell_type": "code",
      "source": [
        "\n",
        "from sklearn.model_selection import train_test_split\n",
        "from sklearn.linear_model import LinearRegression\n",
        "from sklearn.svm import SVR\n",
        "from sklearn.ensemble import RandomForestRegressor,VotingRegressor,ExtraTreesRegressor\n",
        "from sklearn.ensemble import GradientBoostingRegressor\n",
        "from sklearn.ensemble import AdaBoostRegressor\n",
        "from xgboost import XGBRegressor\n",
        "from lightgbm import LGBMRegressor\n",
        "from sklearn.neighbors import KNeighborsRegressor\n",
        "from sklearn.impute import SimpleImputer\n",
        "from sklearn.experimental import enable_iterative_imputer\n",
        "from sklearn.impute import IterativeImputer\n",
        "from sklearn.preprocessing import OneHotEncoder,MinMaxScaler\n",
        "from sklearn.compose import ColumnTransformer\n",
        "from sklearn.pipeline import Pipeline\n",
        "from sklearn.metrics import r2_score\n",
        "from tqdm import tqdm\n",
        "from sklearn.model_selection import GridSearchCV\n",
        "X_train, X_test, y_train, y_test = train_test_split(X, y, test_size=0.2, random_state=SEED)"
      ],
      "metadata": {
        "id": "VS9-h7aVTkLL"
      },
      "execution_count": 14,
      "outputs": []
    },
    {
      "cell_type": "code",
      "source": [
        "numerical_pipe = Pipeline([\n",
        "    ('imputer',IterativeImputer()),\n",
        "    ('imputer1', SimpleImputer(strategy='mean',fill_value=np.NaN)),\n",
        "    ('scaler', MinMaxScaler())\n",
        "])\n",
        "\n",
        "categorical_pipe = Pipeline([\n",
        "\n",
        "    ('imputer1', SimpleImputer(strategy='most_frequent', fill_value=np.NaN)),\n",
        "    ('encoder', OneHotEncoder(drop='first', handle_unknown='ignore', sparse=False))\n",
        "])\n",
        "\n",
        "preprocessors = ColumnTransformer(transformers=[\n",
        "    ('num', numerical_pipe, NUMERICAL),\n",
        "    ('cat', categorical_pipe, CATEGORICAL)\n",
        "])\n",
        "\n",
        "pipe1 = Pipeline([\n",
        "    ('preprocessors', preprocessors),\n",
        "    ('model', LinearRegression())\n",
        "])\n",
        "\n",
        "pipe1.fit(X_train, y_train)\n",
        "y_pred=pipe1.predict(X_test)"
      ],
      "metadata": {
        "id": "qrRut_PrPZKC"
      },
      "execution_count": 15,
      "outputs": []
    },
    {
      "cell_type": "code",
      "source": [
        "r2_score(y_test,y_pred)"
      ],
      "metadata": {
        "colab": {
          "base_uri": "https://localhost:8080/"
        },
        "id": "_cIV2QNZVwTl",
        "outputId": "9ac8e924-535f-4862-a980-456a135c8628"
      },
      "execution_count": 16,
      "outputs": [
        {
          "output_type": "execute_result",
          "data": {
            "text/plain": [
              "-5.201298641555315e+24"
            ]
          },
          "metadata": {},
          "execution_count": 16
        }
      ]
    },
    {
      "cell_type": "code",
      "source": [],
      "metadata": {
        "id": "bHAhP4RlV-F5"
      },
      "execution_count": 16,
      "outputs": []
    },
    {
      "cell_type": "code",
      "source": [],
      "metadata": {
        "id": "0GNBwc4uV-RG"
      },
      "execution_count": 16,
      "outputs": []
    },
    {
      "cell_type": "code",
      "source": [],
      "metadata": {
        "id": "UJWkVRkNW88M"
      },
      "execution_count": 16,
      "outputs": []
    },
    {
      "cell_type": "code",
      "source": [
        "from sklearn.ensemble import ExtraTreesRegressor\n",
        "from tqdm import tqdm"
      ],
      "metadata": {
        "id": "_chGcgYFeqpN"
      },
      "execution_count": 17,
      "outputs": []
    },
    {
      "cell_type": "code",
      "source": [
        "regressor = ExtraTreesRegressor(bootstrap=False, ccp_alpha=0.0, criterion='friedman_mse',\n",
        "                    max_depth=None, max_features='auto', max_leaf_nodes=None,\n",
        "                    max_samples=None, min_impurity_decrease=0.0, min_samples_leaf=1,\n",
        "                    min_samples_split=2, min_weight_fraction_leaf=0.0,\n",
        "                    n_estimators=100, n_jobs=-1, oob_score=False,\n",
        "                    random_state=123, verbose=0, warm_start=False)\n",
        "scores=[]\n",
        "for i in tqdm(range(1000)):\n",
        "    X_train,X_test,y_train,y_test=train_test_split(X,y,test_size=0.2,random_state=i)\n",
        "    lr=LinearRegression()\n",
        "    pipe2 = Pipeline([\n",
        "    ('preprocessors', preprocessors),\n",
        "    ('model', regressor)\n",
        "    ])\n",
        "    pipe2.fit(X_train,y_train)\n",
        "    y_pred=pipe2.predict(X_test)\n",
        "    scores.append(r2_score(y_test,y_pred))\n"
      ],
      "metadata": {
        "id": "PHhpkU1SkDmh",
        "colab": {
          "base_uri": "https://localhost:8080/"
        },
        "outputId": "a7d7e3cd-63f9-452b-fd1a-3ea2987f2c0d"
      },
      "execution_count": 18,
      "outputs": [
        {
          "output_type": "stream",
          "name": "stderr",
          "text": [
            "100%|██████████| 1000/1000 [21:19<00:00,  1.28s/it]\n"
          ]
        }
      ]
    },
    {
      "cell_type": "code",
      "source": [
        "X_train,X_test,y_train,y_test=train_test_split(X,y,test_size=0.2,random_state=np.argmax(scores))\n",
        "pipe2= Pipeline([\n",
        "    ('preprocessors', preprocessors),\n",
        "    ('model', regressor)\n",
        "])\n",
        "pipe2.fit(X_train,y_train)\n",
        "y_pred=pipe2.predict(X_test)\n",
        "r2_score(y_test,y_pred)"
      ],
      "metadata": {
        "colab": {
          "base_uri": "https://localhost:8080/"
        },
        "id": "Y7YPD7yEhYNU",
        "outputId": "e4b3a8ba-767a-4e8c-cf2a-9e4c019a1b98"
      },
      "execution_count": 19,
      "outputs": [
        {
          "output_type": "execute_result",
          "data": {
            "text/plain": [
              "0.943337550777427"
            ]
          },
          "metadata": {},
          "execution_count": 19
        }
      ]
    },
    {
      "cell_type": "code",
      "source": [
        "import pickle\n",
        "pickle.dump(pipe2,open('ExtratreeRegressorModel.pkl','wb'))"
      ],
      "metadata": {
        "id": "60kbQVYkOQSw"
      },
      "execution_count": 20,
      "outputs": []
    },
    {
      "cell_type": "code",
      "source": [],
      "metadata": {
        "id": "N7U0GKMSuVu1"
      },
      "execution_count": null,
      "outputs": []
    },
    {
      "cell_type": "code",
      "source": [
        "model1 = RandomForestRegressor()\n",
        "model2 = LGBMRegressor()\n",
        "model3 = XGBRegressor()\n",
        "model4 = ExtraTreesRegressor(bootstrap=False, ccp_alpha=0.0, criterion='friedman_mse',\n",
        "                    max_depth=None, max_features='auto', max_leaf_nodes=None,\n",
        "                    max_samples=None, min_impurity_decrease=0.0, min_samples_leaf=1,\n",
        "                    min_samples_split=2, min_weight_fraction_leaf=0.0,\n",
        "                    n_estimators=100, n_jobs=-1, oob_score=False,\n",
        "                    random_state=42, verbose=0, warm_start=False)\n",
        "model5 = AdaBoostRegressor()\n",
        "model6 = GradientBoostingRegressor()\n",
        "model7 = SVR()\n",
        "model8 = KNeighborsRegressor()"
      ],
      "metadata": {
        "id": "jQzz69lVQN_A"
      },
      "execution_count": null,
      "outputs": []
    },
    {
      "cell_type": "code",
      "source": [
        "vc = VotingRegressor(estimators=[\n",
        "          ('1',model1),('2',model2),('3',model3),('4',model4),('5',model5),('6',model6),('7',model7),('8',model8)])\n",
        "vc = VotingRegressor(estimators=[\n",
        "          ('1',model1),('4',model4),('6',model6)])"
      ],
      "metadata": {
        "id": "Z4KURE-AQOBC"
      },
      "execution_count": null,
      "outputs": []
    },
    {
      "cell_type": "code",
      "source": [
        "X=df.drop(columns=TARGET)\n",
        "y=df[TARGET]\n",
        "X_train, X_test, y_train, y_test = train_test_split(X, y, test_size=0.2, random_state=42)\n"
      ],
      "metadata": {
        "id": "gczeesWqQOCW"
      },
      "execution_count": null,
      "outputs": []
    },
    {
      "cell_type": "code",
      "source": [
        "pipe1 = Pipeline([\n",
        "    ('preprocessors', preprocessors),\n",
        "    ('model', vc)\n",
        "])\n",
        "\n",
        "pipe1.fit(X_train, y_train)\n",
        "y_pred=pipe1.predict(X_test)\n",
        "r2_score(y_test,y_pred)"
      ],
      "metadata": {
        "colab": {
          "base_uri": "https://localhost:8080/"
        },
        "id": "ddP8rrPqQOEd",
        "outputId": "7cd454b8-8a4d-47fc-bdf8-9e608ae34dde"
      },
      "execution_count": null,
      "outputs": [
        {
          "output_type": "execute_result",
          "data": {
            "text/plain": [
              "0.8733616548496269"
            ]
          },
          "metadata": {},
          "execution_count": 46
        }
      ]
    },
    {
      "cell_type": "code",
      "source": [],
      "metadata": {
        "id": "E1Gh7f6UQONY"
      },
      "execution_count": null,
      "outputs": []
    },
    {
      "cell_type": "code",
      "source": [
        "### Extratreeregressor works well."
      ],
      "metadata": {
        "id": "2sdxYD7Ev3D_"
      },
      "execution_count": null,
      "outputs": []
    },
    {
      "cell_type": "code",
      "source": [
        "!pip install gradio"
      ],
      "metadata": {
        "id": "NlIMLNdPwBs5",
        "colab": {
          "base_uri": "https://localhost:8080/"
        },
        "outputId": "31b8f55a-12b8-49fb-e4f4-936fd79ee113"
      },
      "execution_count": 21,
      "outputs": [
        {
          "output_type": "stream",
          "name": "stdout",
          "text": [
            "Looking in indexes: https://pypi.org/simple, https://us-python.pkg.dev/colab-wheels/public/simple/\n",
            "Collecting gradio\n",
            "  Downloading gradio-3.35.2-py3-none-any.whl (19.7 MB)\n",
            "\u001b[2K     \u001b[90m━━━━━━━━━━━━━━━━━━━━━━━━━━━━━━━━━━━━━━━━\u001b[0m \u001b[32m19.7/19.7 MB\u001b[0m \u001b[31m63.0 MB/s\u001b[0m eta \u001b[36m0:00:00\u001b[0m\n",
            "\u001b[?25hCollecting aiofiles (from gradio)\n",
            "  Downloading aiofiles-23.1.0-py3-none-any.whl (14 kB)\n",
            "Collecting aiohttp (from gradio)\n",
            "  Downloading aiohttp-3.8.4-cp310-cp310-manylinux_2_17_x86_64.manylinux2014_x86_64.whl (1.0 MB)\n",
            "\u001b[2K     \u001b[90m━━━━━━━━━━━━━━━━━━━━━━━━━━━━━━━━━━━━━━━━\u001b[0m \u001b[32m1.0/1.0 MB\u001b[0m \u001b[31m72.7 MB/s\u001b[0m eta \u001b[36m0:00:00\u001b[0m\n",
            "\u001b[?25hRequirement already satisfied: altair>=4.2.0 in /usr/local/lib/python3.10/dist-packages (from gradio) (4.2.2)\n",
            "Collecting fastapi (from gradio)\n",
            "  Downloading fastapi-0.97.0-py3-none-any.whl (56 kB)\n",
            "\u001b[2K     \u001b[90m━━━━━━━━━━━━━━━━━━━━━━━━━━━━━━━━━━━━━━━━\u001b[0m \u001b[32m57.0/57.0 kB\u001b[0m \u001b[31m7.9 MB/s\u001b[0m eta \u001b[36m0:00:00\u001b[0m\n",
            "\u001b[?25hCollecting ffmpy (from gradio)\n",
            "  Downloading ffmpy-0.3.0.tar.gz (4.8 kB)\n",
            "  Preparing metadata (setup.py) ... \u001b[?25l\u001b[?25hdone\n",
            "Collecting gradio-client>=0.2.7 (from gradio)\n",
            "  Downloading gradio_client-0.2.7-py3-none-any.whl (288 kB)\n",
            "\u001b[2K     \u001b[90m━━━━━━━━━━━━━━━━━━━━━━━━━━━━━━━━━━━━━━\u001b[0m \u001b[32m288.4/288.4 kB\u001b[0m \u001b[31m28.1 MB/s\u001b[0m eta \u001b[36m0:00:00\u001b[0m\n",
            "\u001b[?25hCollecting httpx (from gradio)\n",
            "  Downloading httpx-0.24.1-py3-none-any.whl (75 kB)\n",
            "\u001b[2K     \u001b[90m━━━━━━━━━━━━━━━━━━━━━━━━━━━━━━━━━━━━━━━━\u001b[0m \u001b[32m75.4/75.4 kB\u001b[0m \u001b[31m8.6 MB/s\u001b[0m eta \u001b[36m0:00:00\u001b[0m\n",
            "\u001b[?25hCollecting huggingface-hub>=0.14.0 (from gradio)\n",
            "  Downloading huggingface_hub-0.15.1-py3-none-any.whl (236 kB)\n",
            "\u001b[2K     \u001b[90m━━━━━━━━━━━━━━━━━━━━━━━━━━━━━━━━━━━━━━\u001b[0m \u001b[32m236.8/236.8 kB\u001b[0m \u001b[31m25.3 MB/s\u001b[0m eta \u001b[36m0:00:00\u001b[0m\n",
            "\u001b[?25hRequirement already satisfied: jinja2 in /usr/local/lib/python3.10/dist-packages (from gradio) (3.1.2)\n",
            "Requirement already satisfied: markdown-it-py[linkify]>=2.0.0 in /usr/local/lib/python3.10/dist-packages (from gradio) (2.2.0)\n",
            "Requirement already satisfied: markupsafe in /usr/local/lib/python3.10/dist-packages (from gradio) (2.1.2)\n",
            "Requirement already satisfied: matplotlib in /usr/local/lib/python3.10/dist-packages (from gradio) (3.7.1)\n",
            "Collecting mdit-py-plugins<=0.3.3 (from gradio)\n",
            "  Downloading mdit_py_plugins-0.3.3-py3-none-any.whl (50 kB)\n",
            "\u001b[2K     \u001b[90m━━━━━━━━━━━━━━━━━━━━━━━━━━━━━━━━━━━━━━━━\u001b[0m \u001b[32m50.5/50.5 kB\u001b[0m \u001b[31m6.6 MB/s\u001b[0m eta \u001b[36m0:00:00\u001b[0m\n",
            "\u001b[?25hRequirement already satisfied: numpy in /usr/local/lib/python3.10/dist-packages (from gradio) (1.22.4)\n",
            "Collecting orjson (from gradio)\n",
            "  Downloading orjson-3.9.1-cp310-cp310-manylinux_2_17_x86_64.manylinux2014_x86_64.whl (136 kB)\n",
            "\u001b[2K     \u001b[90m━━━━━━━━━━━━━━━━━━━━━━━━━━━━━━━━━━━━━━\u001b[0m \u001b[32m137.0/137.0 kB\u001b[0m \u001b[31m16.9 MB/s\u001b[0m eta \u001b[36m0:00:00\u001b[0m\n",
            "\u001b[?25hRequirement already satisfied: pandas in /usr/local/lib/python3.10/dist-packages (from gradio) (1.5.3)\n",
            "Requirement already satisfied: pillow in /usr/local/lib/python3.10/dist-packages (from gradio) (8.4.0)\n",
            "Requirement already satisfied: pydantic in /usr/local/lib/python3.10/dist-packages (from gradio) (1.10.7)\n",
            "Collecting pydub (from gradio)\n",
            "  Downloading pydub-0.25.1-py2.py3-none-any.whl (32 kB)\n",
            "Requirement already satisfied: pygments>=2.12.0 in /usr/local/lib/python3.10/dist-packages (from gradio) (2.14.0)\n",
            "Collecting python-multipart (from gradio)\n",
            "  Downloading python_multipart-0.0.6-py3-none-any.whl (45 kB)\n",
            "\u001b[2K     \u001b[90m━━━━━━━━━━━━━━━━━━━━━━━━━━━━━━━━━━━━━━━━\u001b[0m \u001b[32m45.7/45.7 kB\u001b[0m \u001b[31m5.8 MB/s\u001b[0m eta \u001b[36m0:00:00\u001b[0m\n",
            "\u001b[?25hRequirement already satisfied: pyyaml in /usr/local/lib/python3.10/dist-packages (from gradio) (6.0)\n",
            "Requirement already satisfied: requests in /usr/local/lib/python3.10/dist-packages (from gradio) (2.27.1)\n",
            "Collecting semantic-version (from gradio)\n",
            "  Downloading semantic_version-2.10.0-py2.py3-none-any.whl (15 kB)\n",
            "Collecting uvicorn>=0.14.0 (from gradio)\n",
            "  Downloading uvicorn-0.22.0-py3-none-any.whl (58 kB)\n",
            "\u001b[2K     \u001b[90m━━━━━━━━━━━━━━━━━━━━━━━━━━━━━━━━━━━━━━━━\u001b[0m \u001b[32m58.3/58.3 kB\u001b[0m \u001b[31m7.3 MB/s\u001b[0m eta \u001b[36m0:00:00\u001b[0m\n",
            "\u001b[?25hCollecting websockets>=10.0 (from gradio)\n",
            "  Downloading websockets-11.0.3-cp310-cp310-manylinux_2_5_x86_64.manylinux1_x86_64.manylinux_2_17_x86_64.manylinux2014_x86_64.whl (129 kB)\n",
            "\u001b[2K     \u001b[90m━━━━━━━━━━━━━━━━━━━━━━━━━━━━━━━━━━━━━━\u001b[0m \u001b[32m129.9/129.9 kB\u001b[0m \u001b[31m17.0 MB/s\u001b[0m eta \u001b[36m0:00:00\u001b[0m\n",
            "\u001b[?25hRequirement already satisfied: entrypoints in /usr/local/lib/python3.10/dist-packages (from altair>=4.2.0->gradio) (0.4)\n",
            "Requirement already satisfied: jsonschema>=3.0 in /usr/local/lib/python3.10/dist-packages (from altair>=4.2.0->gradio) (4.3.3)\n",
            "Requirement already satisfied: toolz in /usr/local/lib/python3.10/dist-packages (from altair>=4.2.0->gradio) (0.12.0)\n",
            "Requirement already satisfied: fsspec in /usr/local/lib/python3.10/dist-packages (from gradio-client>=0.2.7->gradio) (2023.4.0)\n",
            "Requirement already satisfied: packaging in /usr/local/lib/python3.10/dist-packages (from gradio-client>=0.2.7->gradio) (23.1)\n",
            "Requirement already satisfied: typing-extensions in /usr/local/lib/python3.10/dist-packages (from gradio-client>=0.2.7->gradio) (4.5.0)\n",
            "Requirement already satisfied: filelock in /usr/local/lib/python3.10/dist-packages (from huggingface-hub>=0.14.0->gradio) (3.12.0)\n",
            "Requirement already satisfied: tqdm>=4.42.1 in /usr/local/lib/python3.10/dist-packages (from huggingface-hub>=0.14.0->gradio) (4.65.0)\n",
            "Requirement already satisfied: mdurl~=0.1 in /usr/local/lib/python3.10/dist-packages (from markdown-it-py[linkify]>=2.0.0->gradio) (0.1.2)\n",
            "Collecting linkify-it-py<3,>=1 (from markdown-it-py[linkify]>=2.0.0->gradio)\n",
            "  Downloading linkify_it_py-2.0.2-py3-none-any.whl (19 kB)\n",
            "Requirement already satisfied: python-dateutil>=2.8.1 in /usr/local/lib/python3.10/dist-packages (from pandas->gradio) (2.8.2)\n",
            "Requirement already satisfied: pytz>=2020.1 in /usr/local/lib/python3.10/dist-packages (from pandas->gradio) (2022.7.1)\n",
            "Requirement already satisfied: click>=7.0 in /usr/local/lib/python3.10/dist-packages (from uvicorn>=0.14.0->gradio) (8.1.3)\n",
            "Collecting h11>=0.8 (from uvicorn>=0.14.0->gradio)\n",
            "  Downloading h11-0.14.0-py3-none-any.whl (58 kB)\n",
            "\u001b[2K     \u001b[90m━━━━━━━━━━━━━━━━━━━━━━━━━━━━━━━━━━━━━━━━\u001b[0m \u001b[32m58.3/58.3 kB\u001b[0m \u001b[31m6.8 MB/s\u001b[0m eta \u001b[36m0:00:00\u001b[0m\n",
            "\u001b[?25hRequirement already satisfied: attrs>=17.3.0 in /usr/local/lib/python3.10/dist-packages (from aiohttp->gradio) (23.1.0)\n",
            "Requirement already satisfied: charset-normalizer<4.0,>=2.0 in /usr/local/lib/python3.10/dist-packages (from aiohttp->gradio) (2.0.12)\n",
            "Collecting multidict<7.0,>=4.5 (from aiohttp->gradio)\n",
            "  Downloading multidict-6.0.4-cp310-cp310-manylinux_2_17_x86_64.manylinux2014_x86_64.whl (114 kB)\n",
            "\u001b[2K     \u001b[90m━━━━━━━━━━━━━━━━━━━━━━━━━━━━━━━━━━━━━━\u001b[0m \u001b[32m114.5/114.5 kB\u001b[0m \u001b[31m15.1 MB/s\u001b[0m eta \u001b[36m0:00:00\u001b[0m\n",
            "\u001b[?25hCollecting async-timeout<5.0,>=4.0.0a3 (from aiohttp->gradio)\n",
            "  Downloading async_timeout-4.0.2-py3-none-any.whl (5.8 kB)\n",
            "Collecting yarl<2.0,>=1.0 (from aiohttp->gradio)\n",
            "  Downloading yarl-1.9.2-cp310-cp310-manylinux_2_17_x86_64.manylinux2014_x86_64.whl (268 kB)\n",
            "\u001b[2K     \u001b[90m━━━━━━━━━━━━━━━━━━━━━━━━━━━━━━━━━━━━━━\u001b[0m \u001b[32m268.8/268.8 kB\u001b[0m \u001b[31m27.9 MB/s\u001b[0m eta \u001b[36m0:00:00\u001b[0m\n",
            "\u001b[?25hCollecting frozenlist>=1.1.1 (from aiohttp->gradio)\n",
            "  Downloading frozenlist-1.3.3-cp310-cp310-manylinux_2_5_x86_64.manylinux1_x86_64.manylinux_2_17_x86_64.manylinux2014_x86_64.whl (149 kB)\n",
            "\u001b[2K     \u001b[90m━━━━━━━━━━━━━━━━━━━━━━━━━━━━━━━━━━━━━━\u001b[0m \u001b[32m149.6/149.6 kB\u001b[0m \u001b[31m19.2 MB/s\u001b[0m eta \u001b[36m0:00:00\u001b[0m\n",
            "\u001b[?25hCollecting aiosignal>=1.1.2 (from aiohttp->gradio)\n",
            "  Downloading aiosignal-1.3.1-py3-none-any.whl (7.6 kB)\n",
            "Collecting starlette<0.28.0,>=0.27.0 (from fastapi->gradio)\n",
            "  Downloading starlette-0.27.0-py3-none-any.whl (66 kB)\n",
            "\u001b[2K     \u001b[90m━━━━━━━━━━━━━━━━━━━━━━━━━━━━━━━━━━━━━━━━\u001b[0m \u001b[32m67.0/67.0 kB\u001b[0m \u001b[31m7.6 MB/s\u001b[0m eta \u001b[36m0:00:00\u001b[0m\n",
            "\u001b[?25hRequirement already satisfied: certifi in /usr/local/lib/python3.10/dist-packages (from httpx->gradio) (2022.12.7)\n",
            "Collecting httpcore<0.18.0,>=0.15.0 (from httpx->gradio)\n",
            "  Downloading httpcore-0.17.2-py3-none-any.whl (72 kB)\n",
            "\u001b[2K     \u001b[90m━━━━━━━━━━━━━━━━━━━━━━━━━━━━━━━━━━━━━━━━\u001b[0m \u001b[32m72.5/72.5 kB\u001b[0m \u001b[31m10.5 MB/s\u001b[0m eta \u001b[36m0:00:00\u001b[0m\n",
            "\u001b[?25hRequirement already satisfied: idna in /usr/local/lib/python3.10/dist-packages (from httpx->gradio) (3.4)\n",
            "Requirement already satisfied: sniffio in /usr/local/lib/python3.10/dist-packages (from httpx->gradio) (1.3.0)\n",
            "Requirement already satisfied: contourpy>=1.0.1 in /usr/local/lib/python3.10/dist-packages (from matplotlib->gradio) (1.0.7)\n",
            "Requirement already satisfied: cycler>=0.10 in /usr/local/lib/python3.10/dist-packages (from matplotlib->gradio) (0.11.0)\n",
            "Requirement already satisfied: fonttools>=4.22.0 in /usr/local/lib/python3.10/dist-packages (from matplotlib->gradio) (4.39.3)\n",
            "Requirement already satisfied: kiwisolver>=1.0.1 in /usr/local/lib/python3.10/dist-packages (from matplotlib->gradio) (1.4.4)\n",
            "Requirement already satisfied: pyparsing>=2.3.1 in /usr/local/lib/python3.10/dist-packages (from matplotlib->gradio) (3.0.9)\n",
            "Requirement already satisfied: urllib3<1.27,>=1.21.1 in /usr/local/lib/python3.10/dist-packages (from requests->gradio) (1.26.15)\n",
            "Requirement already satisfied: anyio<5.0,>=3.0 in /usr/local/lib/python3.10/dist-packages (from httpcore<0.18.0,>=0.15.0->httpx->gradio) (3.6.2)\n",
            "Requirement already satisfied: pyrsistent!=0.17.0,!=0.17.1,!=0.17.2,>=0.14.0 in /usr/local/lib/python3.10/dist-packages (from jsonschema>=3.0->altair>=4.2.0->gradio) (0.19.3)\n",
            "Collecting uc-micro-py (from linkify-it-py<3,>=1->markdown-it-py[linkify]>=2.0.0->gradio)\n",
            "  Downloading uc_micro_py-1.0.2-py3-none-any.whl (6.2 kB)\n",
            "Requirement already satisfied: six>=1.5 in /usr/local/lib/python3.10/dist-packages (from python-dateutil>=2.8.1->pandas->gradio) (1.16.0)\n",
            "Building wheels for collected packages: ffmpy\n",
            "  Building wheel for ffmpy (setup.py) ... \u001b[?25l\u001b[?25hdone\n",
            "  Created wheel for ffmpy: filename=ffmpy-0.3.0-py3-none-any.whl size=4694 sha256=e0a337955845a1c4954d324101d2f291856cb7c983959466f3683daf055f0f8f\n",
            "  Stored in directory: /root/.cache/pip/wheels/0c/c2/0e/3b9c6845c6a4e35beb90910cc70d9ac9ab5d47402bd62af0df\n",
            "Successfully built ffmpy\n",
            "Installing collected packages: pydub, ffmpy, websockets, uc-micro-py, semantic-version, python-multipart, orjson, multidict, h11, frozenlist, async-timeout, aiofiles, yarl, uvicorn, starlette, mdit-py-plugins, linkify-it-py, huggingface-hub, httpcore, aiosignal, httpx, fastapi, aiohttp, gradio-client, gradio\n",
            "Successfully installed aiofiles-23.1.0 aiohttp-3.8.4 aiosignal-1.3.1 async-timeout-4.0.2 fastapi-0.97.0 ffmpy-0.3.0 frozenlist-1.3.3 gradio-3.35.2 gradio-client-0.2.7 h11-0.14.0 httpcore-0.17.2 httpx-0.24.1 huggingface-hub-0.15.1 linkify-it-py-2.0.2 mdit-py-plugins-0.3.3 multidict-6.0.4 orjson-3.9.1 pydub-0.25.1 python-multipart-0.0.6 semantic-version-2.10.0 starlette-0.27.0 uc-micro-py-1.0.2 uvicorn-0.22.0 websockets-11.0.3 yarl-1.9.2\n"
          ]
        }
      ]
    },
    {
      "cell_type": "code",
      "source": [
        "import gradio as gr"
      ],
      "metadata": {
        "id": "fVKmDW6KnJOZ"
      },
      "execution_count": 22,
      "outputs": []
    },
    {
      "cell_type": "code",
      "source": [
        "#Des=\"Allowed values for features:\\nRating:\"+'choose value any from '+str(df.rating.min())+' to '+str(df.rating.max())+'/nBattery Capacity:'+'choose value any from '+str(df.bat_cap.min())+' to '+str(df.bat_cap.max())+'\\nBattery speed:'+'choose value any from  '+str(df.bat_speed.min())+' to '+str(df.bat_speed.max())\""
      ],
      "metadata": {
        "id": "PCMO8oYuySkU"
      },
      "execution_count": null,
      "outputs": []
    },
    {
      "cell_type": "code",
      "source": [
        "inputs = [\n",
        "    gr.inputs.Dropdown(list(df.Brand.unique()),label='Brand', default='Samsung'),\n",
        "    gr.Markdown('Choose rating value between '+str(df.rating.min())+' and '+str(df.rating.max())),\n",
        "    gr.inputs.Number(label='Rating in 0 to 100 scale', default=int(df.rating.mean())),\n",
        "    gr.Markdown('Choose Battery Capacity value between '+str(df.bat_cap.min())+' and '+str(df.bat_cap.max())),\n",
        "    gr.inputs.Number(label='Battery Capacity in mAH', default=int(df.bat_cap.mean())),\n",
        "    gr.Markdown('Choose Battery Speed value between '+str(df.bat_speed.min())+' and '+str(df.bat_speed.max())),\n",
        "    gr.inputs.Number(label='Battery charger Speed in W', default=int(df.bat_speed.mean())),\n",
        "    gr.Markdown('Choose RAM value between '+str(df.ram.min())+' and '+str(df.ram.max())),\n",
        "    gr.inputs.Number(label='Ram in GB', default=int(df.ram.mean())),\n",
        "    gr.Markdown('Choose ROM value between '+str(df.rom.min())+' and '+str(df.rom.max())),\n",
        "    gr.inputs.Number(label='Rom in GB', default=int(df.rom.mean())),\n",
        "    gr.inputs.Dropdown(list(df.os_ver.unique()),label='OS Version', default='10'),\n",
        "    gr.inputs.Dropdown(list(df.os_type.unique()),label='OS Type', default='Android'),\n",
        "    gr.Markdown('Choose Screen Size value between '+str(df.inches.min())+' and '+str(df.inches.max())),\n",
        "    gr.inputs.Number(label='Screen Size in Inches', default=df.inches.mean()),\n",
        "    gr.Markdown('Choose Screen Refresh Rate value between '+str(df.refresh_rate.min())+' and '+str(df.refresh_rate.max())),\n",
        "    gr.inputs.Number(label='Refresh Rate in Hz', default=int(df.refresh_rate.mean())),\n",
        "    gr.inputs.Dropdown(list(df.notch.unique()),label='Notch', default='Punch'),\n",
        "    gr.Markdown('Choose pixel width and height value between 250 to 3000'),\n",
        "    gr.inputs.Number(label='pixel_width ', default=1080),\n",
        "    gr.inputs.Number(label='pixel_height', default=1200),\n",
        "    gr.Markdown('Choose primary camera value between '+str(df.p_cam.min())+' and '+str(df.p_cam.max())),\n",
        "    gr.inputs.Number(label='primary_camera in MP', default=int(df.p_cam.mean())),\n",
        "    gr.Markdown('Choose secondary camera value between '+str(df.s_cam.min())+' and '+str(df.s_cam.max())),\n",
        "    gr.inputs.Number(label='secondary_camera in MP', default=int(df.s_cam.mean())),\n",
        "    gr.Markdown('Choose teritiary camera value between '+str(df.t_cam.min())+' and '+str(df.t_cam.max())),\n",
        "    gr.inputs.Number(label='Teritiary_camera in MP', default=int(df.t_cam.mean())),\n",
        "    gr.Markdown('Choose front camera value between '+str(df.f_cam.min())+' and '+str(df.f_cam.max())),\n",
        "    gr.inputs.Number(label='front_camera in MP', default=int(df.f_cam.mean())),\n",
        "    gr.inputs.Dropdown(list(df.proc_type.unique()),label='Processor', default='Exynos'),\n",
        "    gr.inputs.Dropdown(list(df.core.unique()),label='No of cores', default='8'),\n",
        "    gr.Markdown('Choose clock speed in GHz value between '+str(df.ghz.min())+' and '+str(df.ghz.max())),\n",
        "    gr.inputs.Number(label='Ghz', default=int(df.ghz.mean())),\n",
        "    gr.inputs.Radio(label='5G',choices=['yes','no'],default='no',type='index'),\n",
        "    gr.inputs.Radio(label='IR Blaster',choices=['yes','no'],default='no',type='index'),\n",
        "    gr.inputs.Radio(label='NFC',choices=['yes','no'],default='no',type='index')\n",
        "]\n",
        "\n",
        "outputs = [\n",
        "     gr.outputs.Label(),\n",
        "     gr.outputs.Label()\n",
        "\n",
        "]\n"
      ],
      "metadata": {
        "id": "Dp8dhwb8n8BQ"
      },
      "execution_count": 23,
      "outputs": []
    },
    {
      "cell_type": "code",
      "source": [
        "def predict_price(Brand,t1,rating,t2,bat_cap,t3,bat_speed,t4,ram,t5,rom,os_ver,os_type,t6,inches,t7,refresh_rate,notch,t8,pixel_width,pixel_height,t9,p_cam,t10,s_cam,t11,t_cam,t12,f_cam,proc_type,core,t13,ghz,G5,IR_Blaster,NFC):\n",
        "  pixel=int(pixel_height)*int(pixel_width)\n",
        "  data=pd.DataFrame({'Brand':[Brand],'rating':[float(rating)],'bat_cap':[float(bat_cap)],'bat_speed':[float(bat_speed)],'ram':[int(ram)],'rom':[int(rom)],'os_ver':[float(os_ver)],\n",
        "                     'os_type':[os_type],'inches':[float(inches)],'refresh_rate':[float(refresh_rate)],'notch':[notch],'pixel':[float(pixel)],\n",
        "                     'p_cam':[float(p_cam)],'s_cam':[float(s_cam)],'t_cam':[float(t_cam)],'f_cam':[float(f_cam)],'proc_type':[proc_type],\n",
        "                     'core':[float(core)],'ghz':[float(ghz)],'5G':[int(G5)],'IR Blaster':[int(IR_Blaster)],'NFC':[int(NFC)]\n",
        "                   })\n",
        "  X_pred=data[data.columns]\n",
        "  y_pred=pipe2.predict(X_pred)[0]\n",
        "  #y_pred=pipe1.predict(X_pred)[0]\n",
        "  return 'Estimated price',y_pred\n"
      ],
      "metadata": {
        "id": "WuFzGTU4n8Iv"
      },
      "execution_count": 24,
      "outputs": []
    },
    {
      "cell_type": "code",
      "source": [],
      "metadata": {
        "id": "zIggpkVHn8Mk"
      },
      "execution_count": null,
      "outputs": []
    },
    {
      "cell_type": "code",
      "source": [],
      "metadata": {
        "id": "ENdvzoWon8On"
      },
      "execution_count": null,
      "outputs": []
    },
    {
      "cell_type": "code",
      "source": [],
      "metadata": {
        "id": "F4hUqC4Vn8QZ"
      },
      "execution_count": null,
      "outputs": []
    },
    {
      "cell_type": "code",
      "source": [],
      "metadata": {
        "id": "doIMn6k9n8Sw"
      },
      "execution_count": null,
      "outputs": []
    },
    {
      "cell_type": "code",
      "source": [
        "app = gr.Interface(fn=predict_price,inputs=inputs, outputs=outputs, css=\"footer {visibility: hidden}\", title='Mobile Price Prediction')\n",
        "app.launch(share=True,debug=True)"
      ],
      "metadata": {
        "colab": {
          "base_uri": "https://localhost:8080/",
          "height": 611
        },
        "id": "1icLbfcUn8WD",
        "outputId": "db6710be-b962-47b1-f187-fcdf8f8a1d64"
      },
      "execution_count": null,
      "outputs": [
        {
          "output_type": "stream",
          "name": "stdout",
          "text": [
            "Colab notebook detected. This cell will run indefinitely so that you can see errors and logs. To turn off, set debug=False in launch().\n",
            "Running on public URL: https://315439e123ab116d8a.gradio.live\n",
            "\n",
            "This share link expires in 72 hours. For free permanent hosting and GPU upgrades, run `gradio deploy` from Terminal to deploy to Spaces (https://huggingface.co/spaces)\n"
          ]
        },
        {
          "output_type": "display_data",
          "data": {
            "text/plain": [
              "<IPython.core.display.HTML object>"
            ],
            "text/html": [
              "<div><iframe src=\"https://315439e123ab116d8a.gradio.live\" width=\"100%\" height=\"500\" allow=\"autoplay; camera; microphone; clipboard-read; clipboard-write;\" frameborder=\"0\" allowfullscreen></iframe></div>"
            ]
          },
          "metadata": {}
        }
      ]
    }
  ]
}